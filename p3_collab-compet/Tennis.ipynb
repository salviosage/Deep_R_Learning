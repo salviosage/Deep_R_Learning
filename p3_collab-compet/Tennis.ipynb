{
 "cells": [
  {
   "cell_type": "markdown",
   "metadata": {},
   "source": [
    "# Collaboration and Competition\n",
    "\n",
    "---\n",
    "\n",
    "In this notebook, you will learn how to use the Unity ML-Agents environment for the third project of the [Deep Reinforcement Learning Nanodegree](https://www.udacity.com/course/deep-reinforcement-learning-nanodegree--nd893) program.\n",
    "\n",
    "### 1. Start the Environment\n",
    "\n",
    "We begin by importing the necessary packages.  If the code cell below returns an error, please revisit the project instructions to double-check that you have installed [Unity ML-Agents](https://github.com/Unity-Technologies/ml-agents/blob/master/docs/Installation.md) and [NumPy](http://www.numpy.org/)."
   ]
  },
  {
   "cell_type": "code",
   "execution_count": 1,
   "metadata": {},
   "outputs": [
    {
     "name": "stdout",
     "output_type": "stream",
     "text": [
      "cpu\n"
     ]
    }
   ],
   "source": [
    "from unityagents import UnityEnvironment\n",
    "import numpy as np\n",
    "from collections import namedtuple, deque\n",
    "import matplotlib.pyplot as plt\n",
    "import random\n",
    "import copy\n",
    "import torch\n",
    "from ddpg_agent import Agent, load_and_test\n"
   ]
  },
  {
   "cell_type": "markdown",
   "metadata": {},
   "source": [
    "Next, we will start the environment!  **_Before running the code cell below_**, change the `file_name` parameter to match the location of the Unity environment that you downloaded.\n",
    "\n",
    "- **Mac**: `\"path/to/Tennis.app\"`\n",
    "- **Windows** (x86): `\"path/to/Tennis_Windows_x86/Tennis.exe\"`\n",
    "- **Windows** (x86_64): `\"path/to/Tennis_Windows_x86_64/Tennis.exe\"`\n",
    "- **Linux** (x86): `\"path/to/Tennis_Linux/Tennis.x86\"`\n",
    "- **Linux** (x86_64): `\"path/to/Tennis_Linux/Tennis.x86_64\"`\n",
    "- **Linux** (x86, headless): `\"path/to/Tennis_Linux_NoVis/Tennis.x86\"`\n",
    "- **Linux** (x86_64, headless): `\"path/to/Tennis_Linux_NoVis/Tennis.x86_64\"`\n",
    "\n",
    "For instance, if you are using a Mac, then you downloaded `Tennis.app`.  If this file is in the same folder as the notebook, then the line below should appear as follows:\n",
    "```\n",
    "env = UnityEnvironment(file_name=\"Tennis.app\")\n",
    "```"
   ]
  },
  {
   "cell_type": "code",
   "execution_count": 2,
   "metadata": {},
   "outputs": [
    {
     "name": "stderr",
     "output_type": "stream",
     "text": [
      "INFO:unityagents:\n",
      "'Academy' started successfully!\n",
      "Unity Academy name: Academy\n",
      "        Number of Brains: 1\n",
      "        Number of External Brains : 1\n",
      "        Lesson number : 0\n",
      "        Reset Parameters :\n",
      "\t\t\n",
      "Unity brain name: TennisBrain\n",
      "        Number of Visual Observations (per agent): 0\n",
      "        Vector Observation space type: continuous\n",
      "        Vector Observation space size (per agent): 8\n",
      "        Number of stacked Vector Observation: 3\n",
      "        Vector Action space type: continuous\n",
      "        Vector Action space size (per agent): 2\n",
      "        Vector Action descriptions: , \n"
     ]
    }
   ],
   "source": [
    "env = UnityEnvironment(file_name=\"Tennis.app\")"
   ]
  },
  {
   "cell_type": "markdown",
   "metadata": {},
   "source": [
    "Environments contain **_brains_** which are responsible for deciding the actions of their associated agents. Here we check for the first brain available, and set it as the default brain we will be controlling from Python."
   ]
  },
  {
   "cell_type": "code",
   "execution_count": 3,
   "metadata": {},
   "outputs": [],
   "source": [
    "# get the default brain\n",
    "brain_name = env.brain_names[0]\n",
    "brain = env.brains[brain_name]"
   ]
  },
  {
   "cell_type": "markdown",
   "metadata": {},
   "source": [
    "### 2. Examine the State and Action Spaces\n",
    "\n",
    "In this environment, two agents control rackets to bounce a ball over a net. If an agent hits the ball over the net, it receives a reward of +0.1.  If an agent lets a ball hit the ground or hits the ball out of bounds, it receives a reward of -0.01.  Thus, the goal of each agent is to keep the ball in play.\n",
    "\n",
    "The observation space consists of 8 variables corresponding to the position and velocity of the ball and racket. Two continuous actions are available, corresponding to movement toward (or away from) the net, and jumping. \n",
    "\n",
    "Run the code cell below to print some information about the environment."
   ]
  },
  {
   "cell_type": "code",
   "execution_count": 4,
   "metadata": {},
   "outputs": [
    {
     "name": "stdout",
     "output_type": "stream",
     "text": [
      "Number of agents: 2\n",
      "Size of each action: 2\n",
      "There are 2 agents. Each observes a state with length: 24\n",
      "The state for the first agent looks like: [ 0.          0.          0.          0.          0.          0.\n",
      "  0.          0.          0.          0.          0.          0.\n",
      "  0.          0.          0.          0.         -6.65278625 -1.5\n",
      " -0.          0.          6.83172083  6.         -0.          0.        ]\n"
     ]
    }
   ],
   "source": [
    "# reset the environment\n",
    "env_info = env.reset(train_mode=True)[brain_name]\n",
    "\n",
    "# number of agents \n",
    "num_agents = len(env_info.agents)\n",
    "print('Number of agents:', num_agents)\n",
    "\n",
    "# size of each action\n",
    "action_size = brain.vector_action_space_size\n",
    "print('Size of each action:', action_size)\n",
    "\n",
    "# examine the state space \n",
    "states = env_info.vector_observations\n",
    "state_size = states.shape[1]\n",
    "print('There are {} agents. Each observes a state with length: {}'.format(states.shape[0], state_size))\n",
    "print('The state for the first agent looks like:', states[0])"
   ]
  },
  {
   "cell_type": "markdown",
   "metadata": {},
   "source": [
    "### 3. Take Random Actions in the Environment\n",
    "\n",
    "In the next code cell, you will learn how to use the Python API to control the agents and receive feedback from the environment.\n",
    "\n",
    "Once this cell is executed, you will watch the agents' performance, if they select actions at random with each time step.  A window should pop up that allows you to observe the agents.\n",
    "\n",
    "Of course, as part of the project, you'll have to change the code so that the agents are able to use their experiences to gradually choose better actions when interacting with the environment!"
   ]
  },
  {
   "cell_type": "code",
   "execution_count": 5,
   "metadata": {},
   "outputs": [
    {
     "name": "stdout",
     "output_type": "stream",
     "text": [
      "Score (max over agents) from episode 1: 0.0\n",
      "Score (max over agents) from episode 2: 0.0\n",
      "Score (max over agents) from episode 3: 0.09000000171363354\n",
      "Score (max over agents) from episode 4: 0.0\n",
      "Score (max over agents) from episode 5: 0.0\n"
     ]
    }
   ],
   "source": [
    "for i in range(1, 6):                                      # play game for 5 episodes\n",
    "    env_info = env.reset(train_mode=False)[brain_name]     # reset the environment    \n",
    "    states = env_info.vector_observations                  # get the current state (for each agent)\n",
    "    scores = np.zeros(num_agents)                          # initialize the score (for each agent)\n",
    "    while True:\n",
    "        actions = np.random.randn(num_agents, action_size) # select an action (for each agent)\n",
    "        actions = np.clip(actions, -1, 1)                  # all actions between -1 and 1\n",
    "        env_info = env.step(actions)[brain_name]           # send all actions to tne environment\n",
    "        next_states = env_info.vector_observations         # get next state (for each agent)\n",
    "        rewards = env_info.rewards                         # get reward (for each agent)\n",
    "        dones = env_info.local_done                        # see if episode finished\n",
    "        scores += env_info.rewards                         # update the score (for each agent)\n",
    "        states = next_states                               # roll over states to next time step\n",
    "        if np.any(dones):                                  # exit loop if episode finished\n",
    "            break\n",
    "    print('Score (max over agents) from episode {}: {}'.format(i, np.max(scores)))"
   ]
  },
  {
   "cell_type": "markdown",
   "metadata": {},
   "source": [
    "### 4. It's Your Turn!\n",
    "\n",
    "Now it's your turn to train your own agent to solve the environment!  When training the environment, set `train_mode=True`, so that the line for resetting the environment looks like the following:\n",
    "```python\n",
    "env_info = env.reset(train_mode=True)[brain_name]\n",
    "```"
   ]
  },
  {
   "cell_type": "code",
   "execution_count": 6,
   "metadata": {},
   "outputs": [
    {
     "name": "stdout",
     "output_type": "stream",
     "text": [
      "Number of agents: 2\n"
     ]
    }
   ],
   "source": [
    "# reset the environment\n",
    "env_info = env.reset(train_mode=True)[brain_name]\n",
    "\n",
    "state_size = env_info.vector_observations.shape[1]\n",
    "agents_nb = len(env_info.agents)\n",
    "action_size = brain.vector_action_space_size\n",
    "\n",
    "# number of agents \n",
    "num_agents = len(env_info.agents)\n",
    "print('Number of agents:', num_agents)"
   ]
  },
  {
   "cell_type": "code",
   "execution_count": 7,
   "metadata": {},
   "outputs": [],
   "source": [
    "\n",
    "def ddpg(\n",
    "    agent,\n",
    "    n_episodes=2000,\n",
    "    max_t=1500,\n",
    "    print_every=100,\n",
    "    gamma = 0.96,\n",
    "    gamma_final = 0.99,\n",
    "    gamma_rate = 0.02,\n",
    "    tau = 0.008,\n",
    "    tau_final = 0.001,\n",
    "    tau_rate = 0.001,\n",
    "    noise_scale = 1.0\n",
    "    ):\n",
    "    \n",
    "    \n",
    "    completed = False\n",
    "    \n",
    "    max_scores_deque = deque(maxlen = print_every)\n",
    "    #scores_deque = deque(maxlen=print_every)\n",
    "    #scores = []\n",
    "    max_scores = []\n",
    "    avg_max_scores = []\n",
    "    best_avg_max = 0.0\n",
    "    best_agent_max = 0.0\n",
    "    for i_episode in range(1, n_episodes+1):\n",
    "        \n",
    "        # Reset environment\n",
    "        env_info = env.reset(train_mode=True)[brain_name]\n",
    "        \n",
    "        # Get next state\n",
    "        state = env_info.vector_observations\n",
    "        \n",
    "        # state = env.reset()\n",
    "        agent.reset()\n",
    "\n",
    "        score = np.zeros(agent.num_agents)\n",
    "        \n",
    "        for t in range(max_t):\n",
    "            \n",
    "            # Get actions\n",
    "            action = agent.act(state, noise_scale)\n",
    "            #print(action)\n",
    "\n",
    "            # Send actions to the environment\n",
    "            env_info = env.step(action)[brain_name]\n",
    "            \n",
    "            # Get next state\n",
    "            next_state = env_info.vector_observations\n",
    "            \n",
    "            # Get rewards\n",
    "            reward = env_info.rewards\n",
    "            \n",
    "            # Check if episode is finished\n",
    "            done = env_info.local_done\n",
    "            \n",
    "            # Make the agent proceed to the next timestep in the environment\n",
    "            agent.step(state, action, reward, next_state, done, gamma, tau)\n",
    "            \n",
    "            # Add rewards to scores\n",
    "            score += reward\n",
    "            \n",
    "            # Replace the current state with the next state for the next episode\n",
    "            state = next_state\n",
    "            \n",
    "            # Exit if episode is finished\n",
    "            if np.any(done):\n",
    "                break\n",
    "                \n",
    "        #print('Total score (averaged over agents) this episode: {}'.format(np.mean(score)))\n",
    "        agent_avg = np.mean(score)\n",
    "        agent_max = np.max(score)\n",
    "        agent_min = np.min(score)\n",
    "        max_scores.append(agent_max)\n",
    "        max_scores_deque.append(agent_max)         \n",
    "        avg_max = np.mean(max_scores_deque)\n",
    "        avg_max_scores.append(avg_max)\n",
    "        #scores_deque.append(agent_avg)\n",
    "        #scores.append(agent_avg)\n",
    "        avg_score = np.mean(max_scores_deque)\n",
    "                          \n",
    "        \n",
    "        if i_episode % print_every == 0:\n",
    "            print('Episode {}\\t\\t\\t AvgMax: {:.4f}'.format(i_episode, avg_max))\n",
    "        \n",
    "        if i_episode >=100 and not completed and avg_max > 0.5:\n",
    "            completed = True\n",
    "            best_avg_max = avg_max\n",
    "            torch.save(agent.actor_local.state_dict(), 'actor_weights.pth')\n",
    "            torch.save(agent.critic_local.state_dict(), 'critic_weights.pth')\n",
    "            print(\"100-episode-average max score >0.5 after {:d} episodes.\\t AvgMax: {:.4f}\".format(i_episode, avg_max))\n",
    "        \n",
    "        if completed and avg_max > best_avg_max:\n",
    "            best_avg_max = avg_max\n",
    "            torch.save(agent.actor_local.state_dict(), 'actor_weights_best_avg_max.pth')\n",
    "            torch.save(agent.critic_local.state_dict(), 'critic_weights_best_avg_max.pth')\n",
    "            print(\"New best 100-episode-average at Episode {:d}.\\t AvgMax: {:.4f}\".format(i_episode, avg_max))\n",
    "        \n",
    "               \n",
    "        # Increase gamma discount factor. Limit to gamma_final.\n",
    "        gamma = gamma_final - (1 - gamma_rate) * (gamma_final - gamma)\n",
    "        \n",
    "        tau = tau_final - (1 - tau_rate) * (tau_final - tau)\n",
    "        \n",
    "        \n",
    "    torch.save(agent.actor_local.state_dict(), 'actor_final_weights.pth')\n",
    "    torch.save(agent.critic_local.state_dict(), 'critic_final_weights.pth')\n",
    "    return max_scores, avg_max_scores"
   ]
  },
  {
   "cell_type": "code",
   "execution_count": 8,
   "metadata": {},
   "outputs": [],
   "source": [
    "agent = Agent(\n",
    "    state_size = state_size,\n",
    "    action_size = action_size,\n",
    "    num_agents = num_agents,\n",
    "    random_seed = 0,\n",
    "    buffer_size = int(1e6),\n",
    "    batch_size = 512, \n",
    "    lr_actor = 1e-3,\n",
    "    lr_critic = 2e-3,\n",
    "    noise_theta = 0.12,\n",
    "    noise_sigma = 0.07,\n",
    "    actor_fc1 = 164,\n",
    "    actor_fc2 = 100,\n",
    "    critic_fc1 = 164,\n",
    "    critic_fc2 = 100,\n",
    "    update_every = 15,\n",
    "    num_updates = 12)"
   ]
  },
  {
   "cell_type": "code",
   "execution_count": 9,
   "metadata": {},
   "outputs": [
    {
     "name": "stdout",
     "output_type": "stream",
     "text": [
      "Episode 100\t\t\t AvgMax: 0.0029\n",
      "Episode 200\t\t\t AvgMax: 0.0040\n",
      "Episode 300\t\t\t AvgMax: 0.0057\n",
      "Episode 400\t\t\t AvgMax: 0.0115\n",
      "Episode 500\t\t\t AvgMax: 0.0464\n",
      "Episode 600\t\t\t AvgMax: 0.1322\n",
      "Episode 700\t\t\t AvgMax: 0.4164\n",
      "100-episode-average max score >0.5 after 707 episodes.\t AvgMax: 0.5154\n",
      "New best 100-episode-average at Episode 708.\t AvgMax: 0.5334\n",
      "New best 100-episode-average at Episode 709.\t AvgMax: 0.5514\n",
      "New best 100-episode-average at Episode 710.\t AvgMax: 0.5613\n",
      "New best 100-episode-average at Episode 712.\t AvgMax: 0.5783\n",
      "New best 100-episode-average at Episode 713.\t AvgMax: 0.5873\n",
      "New best 100-episode-average at Episode 714.\t AvgMax: 0.5894\n",
      "New best 100-episode-average at Episode 715.\t AvgMax: 0.5913\n",
      "New best 100-episode-average at Episode 750.\t AvgMax: 0.6071\n",
      "New best 100-episode-average at Episode 751.\t AvgMax: 0.6141\n",
      "New best 100-episode-average at Episode 753.\t AvgMax: 0.6181\n",
      "New best 100-episode-average at Episode 754.\t AvgMax: 0.6381\n",
      "New best 100-episode-average at Episode 759.\t AvgMax: 0.6612\n",
      "New best 100-episode-average at Episode 763.\t AvgMax: 0.6671\n",
      "New best 100-episode-average at Episode 764.\t AvgMax: 0.6911\n",
      "New best 100-episode-average at Episode 765.\t AvgMax: 0.6921\n",
      "New best 100-episode-average at Episode 766.\t AvgMax: 0.6931\n",
      "New best 100-episode-average at Episode 767.\t AvgMax: 0.7070\n",
      "New best 100-episode-average at Episode 768.\t AvgMax: 0.7190\n",
      "New best 100-episode-average at Episode 769.\t AvgMax: 0.7320\n",
      "New best 100-episode-average at Episode 770.\t AvgMax: 0.7550\n",
      "New best 100-episode-average at Episode 775.\t AvgMax: 0.7570\n",
      "New best 100-episode-average at Episode 776.\t AvgMax: 0.7650\n",
      "New best 100-episode-average at Episode 777.\t AvgMax: 0.7690\n",
      "New best 100-episode-average at Episode 778.\t AvgMax: 0.7710\n",
      "New best 100-episode-average at Episode 780.\t AvgMax: 0.7730\n",
      "New best 100-episode-average at Episode 781.\t AvgMax: 0.7980\n",
      "New best 100-episode-average at Episode 782.\t AvgMax: 0.8110\n",
      "New best 100-episode-average at Episode 787.\t AvgMax: 0.8140\n",
      "New best 100-episode-average at Episode 788.\t AvgMax: 0.8150\n",
      "New best 100-episode-average at Episode 790.\t AvgMax: 0.8290\n",
      "New best 100-episode-average at Episode 791.\t AvgMax: 0.8460\n",
      "New best 100-episode-average at Episode 792.\t AvgMax: 0.8540\n",
      "New best 100-episode-average at Episode 794.\t AvgMax: 0.8570\n",
      "New best 100-episode-average at Episode 795.\t AvgMax: 0.8631\n",
      "New best 100-episode-average at Episode 797.\t AvgMax: 0.8711\n",
      "New best 100-episode-average at Episode 799.\t AvgMax: 0.8841\n",
      "Episode 800\t\t\t AvgMax: 0.8812\n",
      "New best 100-episode-average at Episode 840.\t AvgMax: 0.8938\n",
      "New best 100-episode-average at Episode 863.\t AvgMax: 0.8980\n",
      "New best 100-episode-average at Episode 877.\t AvgMax: 0.9079\n",
      "New best 100-episode-average at Episode 878.\t AvgMax: 0.9309\n",
      "New best 100-episode-average at Episode 879.\t AvgMax: 0.9559\n",
      "New best 100-episode-average at Episode 880.\t AvgMax: 0.9599\n",
      "New best 100-episode-average at Episode 885.\t AvgMax: 0.9687\n",
      "New best 100-episode-average at Episode 889.\t AvgMax: 0.9756\n",
      "Episode 900\t\t\t AvgMax: 0.9576\n",
      "New best 100-episode-average at Episode 943.\t AvgMax: 0.9793\n",
      "New best 100-episode-average at Episode 944.\t AvgMax: 0.9973\n",
      "New best 100-episode-average at Episode 945.\t AvgMax: 1.0033\n",
      "New best 100-episode-average at Episode 946.\t AvgMax: 1.0102\n",
      "New best 100-episode-average at Episode 947.\t AvgMax: 1.0132\n",
      "New best 100-episode-average at Episode 948.\t AvgMax: 1.0171\n",
      "New best 100-episode-average at Episode 949.\t AvgMax: 1.0201\n",
      "New best 100-episode-average at Episode 951.\t AvgMax: 1.0341\n",
      "New best 100-episode-average at Episode 952.\t AvgMax: 1.0551\n",
      "Episode 1000\t\t\t AvgMax: 0.9235\n",
      "New best 100-episode-average at Episode 1055.\t AvgMax: 1.0597\n",
      "New best 100-episode-average at Episode 1057.\t AvgMax: 1.0717\n",
      "New best 100-episode-average at Episode 1058.\t AvgMax: 1.0837\n",
      "New best 100-episode-average at Episode 1059.\t AvgMax: 1.1077\n",
      "New best 100-episode-average at Episode 1060.\t AvgMax: 1.1087\n",
      "New best 100-episode-average at Episode 1061.\t AvgMax: 1.1136\n",
      "New best 100-episode-average at Episode 1062.\t AvgMax: 1.1196\n",
      "New best 100-episode-average at Episode 1063.\t AvgMax: 1.1256\n",
      "New best 100-episode-average at Episode 1064.\t AvgMax: 1.1386\n",
      "New best 100-episode-average at Episode 1074.\t AvgMax: 1.1405\n",
      "New best 100-episode-average at Episode 1078.\t AvgMax: 1.1565\n",
      "New best 100-episode-average at Episode 1079.\t AvgMax: 1.1685\n",
      "New best 100-episode-average at Episode 1089.\t AvgMax: 1.1726\n",
      "Episode 1100\t\t\t AvgMax: 1.1225\n",
      "New best 100-episode-average at Episode 1130.\t AvgMax: 1.1794\n",
      "New best 100-episode-average at Episode 1131.\t AvgMax: 1.2004\n",
      "New best 100-episode-average at Episode 1198.\t AvgMax: 1.2021\n",
      "New best 100-episode-average at Episode 1199.\t AvgMax: 1.2070\n",
      "Episode 1200\t\t\t AvgMax: 1.2151\n",
      "New best 100-episode-average at Episode 1200.\t AvgMax: 1.2151\n",
      "New best 100-episode-average at Episode 1201.\t AvgMax: 1.2161\n",
      "New best 100-episode-average at Episode 1202.\t AvgMax: 1.2181\n",
      "New best 100-episode-average at Episode 1204.\t AvgMax: 1.2321\n",
      "New best 100-episode-average at Episode 1205.\t AvgMax: 1.2351\n",
      "New best 100-episode-average at Episode 1206.\t AvgMax: 1.2382\n",
      "New best 100-episode-average at Episode 1207.\t AvgMax: 1.2413\n",
      "New best 100-episode-average at Episode 1216.\t AvgMax: 1.2563\n",
      "New best 100-episode-average at Episode 1220.\t AvgMax: 1.2583\n",
      "New best 100-episode-average at Episode 1225.\t AvgMax: 1.2623\n",
      "Episode 1300\t\t\t AvgMax: 1.0566\n",
      "New best 100-episode-average at Episode 1397.\t AvgMax: 1.2719\n",
      "New best 100-episode-average at Episode 1399.\t AvgMax: 1.2959\n",
      "Episode 1400\t\t\t AvgMax: 1.2899\n",
      "New best 100-episode-average at Episode 1406.\t AvgMax: 1.3108\n",
      "New best 100-episode-average at Episode 1407.\t AvgMax: 1.3369\n",
      "New best 100-episode-average at Episode 1438.\t AvgMax: 1.3480\n",
      "New best 100-episode-average at Episode 1439.\t AvgMax: 1.3539\n",
      "New best 100-episode-average at Episode 1442.\t AvgMax: 1.3558\n",
      "New best 100-episode-average at Episode 1443.\t AvgMax: 1.3579\n",
      "New best 100-episode-average at Episode 1444.\t AvgMax: 1.3819\n",
      "New best 100-episode-average at Episode 1445.\t AvgMax: 1.4029\n",
      "New best 100-episode-average at Episode 1446.\t AvgMax: 1.4279\n",
      "New best 100-episode-average at Episode 1447.\t AvgMax: 1.4319\n",
      "Episode 1500\t\t\t AvgMax: 1.2063\n",
      "Episode 1600\t\t\t AvgMax: 0.9337\n",
      "Episode 1700\t\t\t AvgMax: 0.6525\n",
      "Episode 1800\t\t\t AvgMax: 1.0415\n",
      "New best 100-episode-average at Episode 1833.\t AvgMax: 1.4524\n",
      "New best 100-episode-average at Episode 1835.\t AvgMax: 1.4614\n",
      "New best 100-episode-average at Episode 1836.\t AvgMax: 1.4684\n",
      "New best 100-episode-average at Episode 1837.\t AvgMax: 1.4934\n",
      "New best 100-episode-average at Episode 1839.\t AvgMax: 1.5025\n",
      "New best 100-episode-average at Episode 1840.\t AvgMax: 1.5156\n",
      "New best 100-episode-average at Episode 1841.\t AvgMax: 1.5386\n",
      "New best 100-episode-average at Episode 1844.\t AvgMax: 1.5566\n",
      "New best 100-episode-average at Episode 1845.\t AvgMax: 1.5796\n",
      "New best 100-episode-average at Episode 1847.\t AvgMax: 1.5976\n",
      "New best 100-episode-average at Episode 1848.\t AvgMax: 1.6226\n",
      "New best 100-episode-average at Episode 1850.\t AvgMax: 1.6445\n",
      "New best 100-episode-average at Episode 1851.\t AvgMax: 1.6695\n",
      "New best 100-episode-average at Episode 1853.\t AvgMax: 1.6895\n",
      "New best 100-episode-average at Episode 1854.\t AvgMax: 1.7085\n",
      "New best 100-episode-average at Episode 1857.\t AvgMax: 1.7216\n",
      "New best 100-episode-average at Episode 1858.\t AvgMax: 1.7406\n",
      "New best 100-episode-average at Episode 1859.\t AvgMax: 1.7596\n",
      "New best 100-episode-average at Episode 1860.\t AvgMax: 1.7676\n",
      "New best 100-episode-average at Episode 1862.\t AvgMax: 1.7677\n",
      "New best 100-episode-average at Episode 1863.\t AvgMax: 1.7917\n",
      "New best 100-episode-average at Episode 1864.\t AvgMax: 1.8117\n",
      "New best 100-episode-average at Episode 1865.\t AvgMax: 1.8338\n",
      "New best 100-episode-average at Episode 1866.\t AvgMax: 1.8588\n",
      "New best 100-episode-average at Episode 1868.\t AvgMax: 1.8648\n",
      "New best 100-episode-average at Episode 1869.\t AvgMax: 1.8718\n",
      "New best 100-episode-average at Episode 1871.\t AvgMax: 1.8958\n",
      "New best 100-episode-average at Episode 1872.\t AvgMax: 1.9208\n",
      "New best 100-episode-average at Episode 1873.\t AvgMax: 1.9428\n",
      "New best 100-episode-average at Episode 1875.\t AvgMax: 1.9678\n",
      "New best 100-episode-average at Episode 1876.\t AvgMax: 1.9898\n"
     ]
    },
    {
     "name": "stdout",
     "output_type": "stream",
     "text": [
      "New best 100-episode-average at Episode 1877.\t AvgMax: 2.0138\n",
      "New best 100-episode-average at Episode 1879.\t AvgMax: 2.0268\n",
      "New best 100-episode-average at Episode 1884.\t AvgMax: 2.0337\n",
      "New best 100-episode-average at Episode 1886.\t AvgMax: 2.0437\n",
      "New best 100-episode-average at Episode 1887.\t AvgMax: 2.0557\n",
      "New best 100-episode-average at Episode 1888.\t AvgMax: 2.0577\n",
      "New best 100-episode-average at Episode 1890.\t AvgMax: 2.0827\n",
      "Episode 1900\t\t\t AvgMax: 1.9337\n",
      "Episode 2000\t\t\t AvgMax: 1.2884\n"
     ]
    }
   ],
   "source": [
    "\n",
    "max_scores, avg_max_scores = ddpg(\n",
    "    agent,\n",
    "    n_episodes = 2000,\n",
    "    max_t = 1000,\n",
    "    gamma = 0.95,\n",
    "    gamma_final = 0.99,\n",
    "    gamma_rate = 0.02,\n",
    "    tau = 0.008,\n",
    "    tau_final = 0.001,\n",
    "    tau_rate = 0.002,\n",
    "    noise_scale = 1\n",
    ")"
   ]
  },
  {
   "cell_type": "code",
   "execution_count": 10,
   "metadata": {},
   "outputs": [
    {
     "data": {
      "image/png": "[encoded data removed]",
      "text/plain": [
       "<Figure size 800x600 with 1 Axes>"
      ]
     },
     "metadata": {
      "needs_background": "light"
     },
     "output_type": "display_data"
    }
   ],
   "source": [
    "import matplotlib.pyplot as plt\n",
    "\n",
    "\n",
    "fig = plt.figure(figsize=(8, 6), dpi=100)\n",
    "\n",
    "plt.plot(np.arange(1, len(max_scores)+1), max_scores)\n",
    "plt.plot(np.arange(1, len(max_scores)+1), avg_max_scores, 'g',linewidth=4, label='avg')\n",
    "plt.ylabel('Score')\n",
    "plt.xlabel('Episode #')\n",
    "plt.show()"
   ]
  },
  {
   "cell_type": "markdown",
   "metadata": {},
   "source": [
    "When finished, you can close the environment."
   ]
  },
  {
   "cell_type": "code",
   "execution_count": 11,
   "metadata": {},
   "outputs": [],
   "source": [
    "env.close()"
   ]
  }
 ],
 "metadata": {
  "kernelspec": {
   "display_name": "drlnd",
   "language": "python",
   "name": "drlnd"
  },
  "language_info": {
   "codemirror_mode": {
    "name": "ipython",
    "version": 3
   },
   "file_extension": ".py",
   "mimetype": "text/x-python",
   "name": "python",
   "nbconvert_exporter": "python",
   "pygments_lexer": "ipython3",
   "version": "3.6.13"
  }
 },
 "nbformat": 4,
 "nbformat_minor": 2
}
